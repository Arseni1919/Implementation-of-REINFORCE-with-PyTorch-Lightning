{
 "cells": [
  {
   "cell_type": "code",
   "execution_count": 1,
   "metadata": {},
   "outputs": [],
   "source": [
    "import numpy as np"
   ]
  },
  {
   "cell_type": "code",
   "execution_count": 6,
   "metadata": {},
   "outputs": [],
   "source": [
    "a = [1,2]"
   ]
  },
  {
   "cell_type": "code",
   "execution_count": 9,
   "metadata": {},
   "outputs": [
    {
     "data": {
      "text/plain": [
       "(2,)"
      ]
     },
     "execution_count": 9,
     "metadata": {},
     "output_type": "execute_result"
    }
   ],
   "source": [
    "b = np.array(a)\n",
    "b.shape"
   ]
  },
  {
   "cell_type": "code",
   "execution_count": 10,
   "metadata": {},
   "outputs": [
    {
     "data": {
      "text/plain": [
       "(1, 2)"
      ]
     },
     "execution_count": 10,
     "metadata": {},
     "output_type": "execute_result"
    }
   ],
   "source": [
    "c = np.ndarray(a)\n",
    "c.shape"
   ]
  },
  {
   "cell_type": "code",
   "execution_count": 5,
   "metadata": {},
   "outputs": [
    {
     "data": {
      "text/plain": [
       "[1, 2, 3]"
      ]
     },
     "execution_count": 5,
     "metadata": {},
     "output_type": "execute_result"
    }
   ],
   "source": [
    "a"
   ]
  },
  {
   "cell_type": "code",
   "execution_count": 14,
   "metadata": {},
   "outputs": [
    {
     "data": {
      "text/plain": [
       "1.5"
      ]
     },
     "execution_count": 14,
     "metadata": {},
     "output_type": "execute_result"
    }
   ],
   "source": [
    "d = np.mean(a[-10:])\n",
    "d"
   ]
  },
  {
   "cell_type": "code",
   "execution_count": 1,
   "metadata": {},
   "outputs": [],
   "source": [
    "from IMPORTS import *"
   ]
  },
  {
   "cell_type": "code",
   "execution_count": 14,
   "metadata": {},
   "outputs": [
    {
     "data": {
      "text/plain": [
       "array([ 1.08632864e-02, -3.04061511e-02, -3.11447187e-02, -4.99648067e-06])"
      ]
     },
     "execution_count": 14,
     "metadata": {},
     "output_type": "execute_result"
    }
   ],
   "source": [
    "env_id = 'CartPole-v1'\n",
    "env = gym.make(env_id)\n",
    "obs = env.reset()\n",
    "obs"
   ]
  },
  {
   "cell_type": "code",
   "execution_count": 15,
   "metadata": {},
   "outputs": [
    {
     "data": {
      "text/plain": [
       "array([ 1.08632864e-02, -3.04061511e-02, -3.11447187e-02, -4.99648067e-06])"
      ]
     },
     "execution_count": 15,
     "metadata": {},
     "output_type": "execute_result"
    }
   ],
   "source": [
    "obs.astype('double')"
   ]
  },
  {
   "cell_type": "code",
   "execution_count": 16,
   "metadata": {},
   "outputs": [
    {
     "data": {
      "text/plain": [
       "tensor([ 1.0863e-02, -3.0406e-02, -3.1145e-02, -4.9965e-06],\n",
       "       dtype=torch.float64)"
      ]
     },
     "execution_count": 16,
     "metadata": {},
     "output_type": "execute_result"
    }
   ],
   "source": [
    "torch.tensor(obs, dtype=torch.double)"
   ]
  },
  {
   "cell_type": "code",
   "execution_count": 19,
   "metadata": {},
   "outputs": [],
   "source": [
    "class Model(nn.Module):\n",
    "    def __init__(self, dim_observation, n_actions):\n",
    "        super(Model, self).__init__()\n",
    "\n",
    "        self.n_actions = n_actions\n",
    "        self.dim_observation = dim_observation\n",
    "\n",
    "        self.net = nn.Sequential(\n",
    "            nn.Linear(in_features=self.dim_observation, out_features=16),\n",
    "            nn.ReLU(),\n",
    "            nn.Linear(in_features=16, out_features=8),\n",
    "            nn.ReLU(),\n",
    "            nn.Linear(in_features=8, out_features=self.n_actions),\n",
    "            nn.Softmax(dim=0)\n",
    "        )\n",
    "\n",
    "    def forward(self, state):\n",
    "        return self.net(state)\n",
    "\n",
    "    def select_action(self, state):\n",
    "        # action = torch.multinomial(self.forward(state), 1)\n",
    "        # return action\n",
    "\n",
    "        # state = torch.from_numpy(state).float().unsqueeze(0)\n",
    "        # probs = self.forward(Variable(state))\n",
    "\n",
    "        tnsr = torch.tensor(state, dtype=torch.double)\n",
    "        self.net.double()\n",
    "        curr_out = self(tnsr)\n",
    "        highest_prob_action = np.random.choice(self.n_actions, p=np.squeeze(curr_out.detach().numpy()))\n",
    "        log_prob = torch.log(tnsr.squeeze(0)[highest_prob_action])\n",
    "        return highest_prob_action, log_prob\n",
    "    \n"
   ]
  },
  {
   "cell_type": "code",
   "execution_count": 20,
   "metadata": {},
   "outputs": [],
   "source": [
    "class RLDataset(torch.utils.data.IterableDataset):\n",
    "    \"\"\"\n",
    "    Iterable Dataset containing the ReplayBuffer\n",
    "    which will be updated with new experiences during training\n",
    "    Args:\n",
    "        model: model of the agent\n",
    "        sample_size: number of experiences to sample at a time\n",
    "    \"\"\"\n",
    "\n",
    "    def __init__(self, model: Model, env, sample_size: int = 1) -> None:\n",
    "        self.model = model\n",
    "        self.env = env\n",
    "        self.sample_size = sample_size\n",
    "\n",
    "    def __iter__(self):  # -> Tuple:\n",
    "        max_steps = 10000\n",
    "        state = self.env.reset()\n",
    "        log_probs = []\n",
    "        rewards = []\n",
    "\n",
    "        for steps in range(max_steps):\n",
    "            action, log_prob = self.model.select_action(state)\n",
    "            new_state, reward, done, _ = self.env.step(action)\n",
    "            log_probs.append(log_prob)\n",
    "            rewards.append(reward)\n",
    "            if done:\n",
    "                break\n",
    "        yield rewards, log_probs"
   ]
  },
  {
   "cell_type": "code",
   "execution_count": 22,
   "metadata": {},
   "outputs": [],
   "source": [
    "env_id = 'CartPole-v1'\n",
    "env = gym.make(env_id)\n",
    "obs_size = env.observation_space.shape[0]\n",
    "n_actions = env.action_space.n\n",
    "net = Model(obs_size, n_actions)\n",
    "dataset = RLDataset(net, env)\n",
    "dataloader = DataLoader(dataset=dataset)"
   ]
  },
  {
   "cell_type": "code",
   "execution_count": 35,
   "metadata": {},
   "outputs": [
    {
     "name": "stdout",
     "output_type": "stream",
     "text": [
      "num of batch = 0\n",
      "len of sample in batch = 25\n",
      "-------------------\n",
      "0 [tensor([1.], dtype=torch.float64), tensor([1.], dtype=torch.float64), tensor([1.], dtype=torch.float64), tensor([1.], dtype=torch.float64), tensor([1.], dtype=torch.float64), tensor([1.], dtype=torch.float64), tensor([1.], dtype=torch.float64), tensor([1.], dtype=torch.float64), tensor([1.], dtype=torch.float64), tensor([1.], dtype=torch.float64), tensor([1.], dtype=torch.float64), tensor([1.], dtype=torch.float64), tensor([1.], dtype=torch.float64), tensor([1.], dtype=torch.float64), tensor([1.], dtype=torch.float64), tensor([1.], dtype=torch.float64), tensor([1.], dtype=torch.float64), tensor([1.], dtype=torch.float64), tensor([1.], dtype=torch.float64), tensor([1.], dtype=torch.float64), tensor([1.], dtype=torch.float64), tensor([1.], dtype=torch.float64), tensor([1.], dtype=torch.float64), tensor([1.], dtype=torch.float64), tensor([1.], dtype=torch.float64)]\n",
      "-------------------\n",
      "0 [tensor([-3.0295], dtype=torch.float64), tensor([-3.0295], dtype=torch.float64), tensor([-3.1989], dtype=torch.float64), tensor([-3.0295], dtype=torch.float64), tensor([-3.0295], dtype=torch.float64), tensor([-3.1989], dtype=torch.float64), tensor([-3.1989], dtype=torch.float64), tensor([-3.1989], dtype=torch.float64), tensor([-3.1989], dtype=torch.float64), tensor([-3.1989], dtype=torch.float64), tensor([-3.0295], dtype=torch.float64), tensor([-3.0295], dtype=torch.float64), tensor([-3.1989], dtype=torch.float64), tensor([-3.0295], dtype=torch.float64), tensor([-3.0295], dtype=torch.float64), tensor([-3.1989], dtype=torch.float64), tensor([-3.0295], dtype=torch.float64), tensor([-3.0295], dtype=torch.float64), tensor([-3.1989], dtype=torch.float64), tensor([-3.1989], dtype=torch.float64), tensor([-3.1989], dtype=torch.float64), tensor([-3.0295], dtype=torch.float64), tensor([-3.1989], dtype=torch.float64), tensor([-3.0295], dtype=torch.float64), tensor([-3.1989], dtype=torch.float64)]\n",
      "-------------------\n"
     ]
    }
   ],
   "source": [
    "for i_batch, sample_batched in enumerate(dataloader):\n",
    "    # print(i_batch, sample_batched['image'].size(),\n",
    "    #       sample_batched['landmarks'].size())\n",
    "    print(f'num of batch = {i_batch}')\n",
    "    print(f'len of sample in batch = {len(sample_batched[0])}')\n",
    "    print('-------------------')\n",
    "    print(i_batch, sample_batched[0])\n",
    "    print('-------------------')\n",
    "    print(i_batch, sample_batched[1])\n",
    "    print('-------------------')"
   ]
  },
  {
   "cell_type": "code",
   "execution_count": null,
   "metadata": {},
   "outputs": [],
   "source": []
  }
 ],
 "metadata": {
  "kernelspec": {
   "display_name": "Python 3",
   "language": "python",
   "name": "python3"
  },
  "language_info": {
   "codemirror_mode": {
    "name": "ipython",
    "version": 3
   },
   "file_extension": ".py",
   "mimetype": "text/x-python",
   "name": "python",
   "nbconvert_exporter": "python",
   "pygments_lexer": "ipython3",
   "version": "3.7.6"
  }
 },
 "nbformat": 4,
 "nbformat_minor": 4
}
